{
 "cells": [
  {
   "cell_type": "code",
   "execution_count": null,
   "metadata": {
    "vscode": {
     "languageId": "plaintext"
    }
   },
   "outputs": [],
   "source": [
    "# Import necessary libraries\n",
    "import numpy as np\n",
    "import pandas as pd\n",
    "from sklearn.model_selection import train_test_split\n",
    "from sklearn.neighbors import KNeighborsRegressor\n",
    "import matplotlib.pyplot as plt\n",
    "\n",
    "# Read the data from the file \"Advertising.csv\"\n",
    "data_filename = 'Advertising.csv'\n",
    "df = pd.read_csv(data_filename)\n",
    "\n",
    "# Set 'TV' as the 'predictor variable'\n",
    "x = df[['TV']].values\n",
    "\n",
    "# Set 'Sales' as the response variable 'y'\n",
    "y = df['Sales'].values\n",
    "\n",
    "# Split the dataset into training and testing sets with 60% training data\n",
    "x_train, x_test, y_train, y_test = train_test_split(x, y, train_size=0.6, random_state=42)\n",
    "\n",
    "# Choose the minimum and maximum k values\n",
    "k_value_min = 1\n",
    "k_value_max = 70\n",
    "\n",
    "# Create a list of integer k values between k_value_min and k_value_max\n",
    "k_list = np.linspace(k_value_min, k_value_max, 70)\n",
    "\n",
    "# Set the grid to plot the values\n",
    "fig, ax = plt.subplots(figsize=(10, 6))\n",
    "\n",
    "# Variable used to alter the linewidth of each plot\n",
    "j = 0\n",
    "\n",
    "# Loop over all the k values\n",
    "for k_value in k_list:\n",
    "    # Creating a kNN Regression model\n",
    "    model = KNeighborsRegressor(n_neighbors=int(k_value))\n",
    "\n",
    "    # Fitting the regression model on the training data\n",
    "    model.fit(x_train, y_train)\n",
    "\n",
    "    # Helper code to plot the data along with the model predictions\n",
    "    colors = ['grey', 'r', 'b']\n",
    "    if k_value in [1, 10, 70]:  # Highlight specific k values\n",
    "        xvals = np.linspace(x_train.min(), x_train.max(), 100).reshape(-1, 1)\n",
    "        ypreds = model.predict(xvals)\n",
    "        ax.plot(xvals, ypreds, '-', label=f'k = {int(k_value)}', linewidth=j + 2, color=colors[j])\n",
    "        j += 1\n",
    "\n",
    "# Plot the training data\n",
    "ax.scatter(x_train, y_train, label='Training Data', color='k', marker='x')\n",
    "\n",
    "# Add legend and labels\n",
    "ax.legend(loc='lower right', fontsize=14)\n",
    "ax.set_xlabel('TV budget in $1000', fontsize=14)\n",
    "ax.set_ylabel('Sales in $1000', fontsize=14)\n",
    "plt.tight_layout()\n",
    "plt.show()\n"
   ]
  }
 ],
 "metadata": {
  "language_info": {
   "name": "python"
  }
 },
 "nbformat": 4,
 "nbformat_minor": 2
}
